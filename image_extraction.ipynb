{
 "cells": [
  {
   "cell_type": "markdown",
   "id": "965c7d0e",
   "metadata": {},
   "source": [
    "# Information Extraction from Images"
   ]
  },
  {
   "cell_type": "code",
   "execution_count": 4,
   "id": "e8015b82",
   "metadata": {},
   "outputs": [],
   "source": [
    "# import libraries\n",
    "\n",
    "import re\n",
    "import os\n",
    "import glob\n",
    "import numpy as np\n",
    "import pandas as pd\n",
    "import pytesseract\n",
    "from PIL import Image"
   ]
  },
  {
   "cell_type": "code",
   "execution_count": 230,
   "id": "363146b5",
   "metadata": {},
   "outputs": [],
   "source": [
    "# reporting\n",
    "\n",
    "from reportlab.pdfgen import canvas\n",
    "from reportlab.lib.styles import ParagraphStyle, getSampleStyleSheet\n",
    "from reportlab.lib.enums import TA_LEFT\n",
    "from reportlab.lib import colors\n",
    "from reportlab.lib.units import inch\n",
    "from reportlab.platypus import SimpleDocTemplate, Paragraph, Spacer"
   ]
  },
  {
   "cell_type": "code",
   "execution_count": 30,
   "id": "252db50c",
   "metadata": {},
   "outputs": [],
   "source": [
    "# show path to tesseract\n",
    "\n",
    "pytesseract.pytesseract.tesseract_cmd = '/opt/homebrew/bin/tesseract'"
   ]
  },
  {
   "cell_type": "markdown",
   "id": "6144a9db",
   "metadata": {},
   "source": [
    "### Initialise"
   ]
  },
  {
   "cell_type": "code",
   "execution_count": 287,
   "id": "a449f264",
   "metadata": {},
   "outputs": [],
   "source": [
    "# directories and filenames\n",
    "\n",
    "nhs_blood_tests = 'blood_tests/NHS_app_screenshots/' \n",
    "report_file = 'blood_tests/report.pdf'\n",
    "tabular_file = 'blood_tests/report_table.xlsx' # pivot each blood test by time; to be shown to doctor as well"
   ]
  },
  {
   "cell_type": "code",
   "execution_count": 240,
   "id": "fc84bcb2",
   "metadata": {},
   "outputs": [],
   "source": [
    "# get all relevant image files sorted\n",
    "\n",
    "images_iter = [i for i in os.listdir(nhs_blood_tests) if i[-3:] in ['png', 'jpg']]\n",
    "images_iter.sort()"
   ]
  },
  {
   "cell_type": "markdown",
   "id": "cab96cca",
   "metadata": {},
   "source": [
    "### Starting to Read Relevant Images"
   ]
  },
  {
   "cell_type": "code",
   "execution_count": 242,
   "id": "a9489b21",
   "metadata": {},
   "outputs": [],
   "source": [
    "# reading all the images\n",
    "\n",
    "text_list = []\n",
    "for image in images_iter:\n",
    "    img = Image.open(nhs_blood_tests+image)\n",
    "    text = pytesseract.image_to_string(img)\n",
    "    text = re.sub(r'^e\\s', '', text, flags=re.MULTILINE)\n",
    "    text_list.append(text)"
   ]
  },
  {
   "cell_type": "code",
   "execution_count": 243,
   "id": "352d7cea",
   "metadata": {},
   "outputs": [],
   "source": [
    "# cleaning - 1\n",
    "\n",
    "# combining all the results into a text\n",
    "medical_text = \"\\n\".join(text_list).split(\"\\n\") \n",
    "\n",
    "# replacing \\n\n",
    "medical_text = [text.replace('\\n', ' ') for text in medical_text]"
   ]
  },
  {
   "cell_type": "code",
   "execution_count": 244,
   "id": "54d39a94",
   "metadata": {},
   "outputs": [],
   "source": [
    "# cleaning - 2 \n",
    "\n",
    "# correcting dates\n",
    "months = [\n",
    "    'January', 'February', 'March', 'April', 'May', 'June', 'July', \n",
    "    'August', 'September', 'October', 'November', 'December'\n",
    "]\n",
    "for i in range(len(medical_text)):\n",
    "    line_split = medical_text[i].split(' ')\n",
    "    if line_split[0].isdigit() and line_split[1] in months:\n",
    "        date_var = medical_text[i].split(' ')[:3]\n",
    "        medical_text[i] = ' '.join(date_var)"
   ]
  },
  {
   "cell_type": "code",
   "execution_count": 245,
   "id": "3371ace2",
   "metadata": {},
   "outputs": [],
   "source": [
    "# cleaning - 3\n",
    "\n",
    "# correcting line spacing\n",
    "for i in range(len(medical_text)-1):\n",
    "    try:\n",
    "        line_split = medical_text[i].split(' ')\n",
    "        if not (line_split[0].isdigit() and line_split[1] in months):\n",
    "            if len(medical_text[i])!=0 and len(medical_text[i+1])!=0:\n",
    "                medical_text[i] += ' '+medical_text.pop(i+1)\n",
    "    except:\n",
    "        continue"
   ]
  },
  {
   "cell_type": "code",
   "execution_count": 246,
   "id": "3db9a398",
   "metadata": {},
   "outputs": [],
   "source": [
    "# cleaning - 4\n",
    "\n",
    "# adding an empty line right after date\n",
    "for i in range(len(medical_text)-1):\n",
    "    line_split = medical_text[i].split(' ')\n",
    "    if line_split[0].isdigit() and line_split[1] in months:\n",
    "        medical_text.insert(i+1, '')"
   ]
  },
  {
   "cell_type": "markdown",
   "id": "70512e7d",
   "metadata": {},
   "source": [
    "## PDF Report"
   ]
  },
  {
   "cell_type": "code",
   "execution_count": 248,
   "id": "a83c287c",
   "metadata": {},
   "outputs": [],
   "source": [
    "# storing into pdf\n",
    "\n",
    "# Define a custom ParagraphStyle for the date headings\n",
    "date_style = ParagraphStyle(name='date', fontSize=12, leading=14, textColor=colors.black, alignment=TA_LEFT)\n",
    "\n",
    "# Define the text styles\n",
    "styles = getSampleStyleSheet()\n",
    "title_style = styles['Title']\n",
    "heading_style = styles['Heading4']\n",
    "normal_style = styles['Normal']\n",
    "\n",
    "# Define a list to hold the paragraphs\n",
    "paragraphs = []\n",
    "\n",
    "# replace empty lines with \\n\n",
    "medical_text = ['\\n\\n' if x == '' else x for x in medical_text]\n",
    "\n",
    "# NHS blood report title\n",
    "paragraphs.append(Paragraph('NHS Blood Tests', title_style))\n",
    "\n",
    "# report style - store into pdf\n",
    "for line in medical_text:\n",
    "    line_split = line.split(' ')\n",
    "    if line_split[0].isdigit() and line_split[1] in months:\n",
    "        Spacer(1, 0.15 * inch)\n",
    "        paragraphs.append(Paragraph(line, heading_style))\n",
    "    else:\n",
    "        paragraphs.append(Paragraph(line, normal_style))\n",
    "\n",
    "# Create a SimpleDocTemplate object and add the paragraphs to it\n",
    "doc = SimpleDocTemplate(report_file)\n",
    "doc.build(paragraphs)"
   ]
  },
  {
   "cell_type": "markdown",
   "id": "482f19ba",
   "metadata": {},
   "source": [
    "## Excel Report"
   ]
  },
  {
   "cell_type": "code",
   "execution_count": 250,
   "id": "65d1909b",
   "metadata": {},
   "outputs": [],
   "source": [
    "# preprocessing - 1 \n",
    "\n",
    "medical_list = [i for i in medical_text if i!='\\n\\n']"
   ]
  },
  {
   "cell_type": "code",
   "execution_count": 253,
   "id": "485b4ccc",
   "metadata": {},
   "outputs": [],
   "source": [
    "# preprocessing - 2\n",
    "\n",
    "# getting dates, category, test sorted\n",
    "date = ''\n",
    "cat = ''\n",
    "test = ''\n",
    "rows = []\n",
    "\n",
    "for i in range(len(medical_list)-1):\n",
    "    line_split = medical_list[i].split(' ')\n",
    "    if line_split[0].isdigit() and line_split[1] in months:\n",
    "        date = medical_list[i]\n",
    "        for t in range(i+1, len(medical_list)):\n",
    "            row = {}\n",
    "            line_split2 = medical_list[t].split(' ')\n",
    "            if not (line_split2[0].isdigit() and line_split2[1] in months):\n",
    "                test = medical_list[t]\n",
    "            else:\n",
    "                break\n",
    "            row['date'] = date\n",
    "            row['test'] = test\n",
    "            rows.append(row)\n",
    "        \n"
   ]
  },
  {
   "cell_type": "code",
   "execution_count": 284,
   "id": "0510f429",
   "metadata": {},
   "outputs": [],
   "source": [
    "# preprocessing - 2\n",
    "\n",
    "# getting dates, category, test sorted\n",
    "date = ''\n",
    "cat = ''\n",
    "test = ''\n",
    "rows = []\n",
    "\n",
    "for i in range(len(medical_list)-1):\n",
    "    line_split = medical_list[i].split(' ')\n",
    "    if line_split[0].isdigit() and line_split[1] in months:\n",
    "        date = medical_list[i]\n",
    "        cat = ''\n",
    "        for t in range(i+1, len(medical_list)):\n",
    "            row = {}\n",
    "            line_split2 = medical_list[t].split(' ')\n",
    "            if not (line_split2[0].isdigit() and line_split2[1] in months):\n",
    "                if ':' not in medical_list[t]:\n",
    "                    cat = medical_list[t]\n",
    "                    continue\n",
    "                test = medical_list[t]\n",
    "            else:\n",
    "                break\n",
    "            test_breakdown = test.split(': ') # test name, test result\n",
    "            row['date'] = date\n",
    "            row['category'] = cat\n",
    "            row['test'] = test_breakdown[0]\n",
    "            if len(test_breakdown)>1:\n",
    "                row['result'] = test_breakdown[1].replace(' (normal range', '')\n",
    "            if len(test_breakdown)==3:\n",
    "                if 'normal range' in test_breakdown[1]:\n",
    "                    row['normal range'] = test_breakdown[2].replace(')', '')\n",
    "            rows.append(row)"
   ]
  },
  {
   "cell_type": "code",
   "execution_count": 288,
   "id": "312218ac",
   "metadata": {},
   "outputs": [],
   "source": [
    "# save results to excel file\n",
    "\n",
    "pd.DataFrame(rows).to_excel(tabular_file, index=False)"
   ]
  },
  {
   "cell_type": "code",
   "execution_count": null,
   "id": "4ac93525",
   "metadata": {},
   "outputs": [],
   "source": []
  }
 ],
 "metadata": {
  "kernelspec": {
   "display_name": "Python 3 (ipykernel)",
   "language": "python",
   "name": "python3"
  },
  "language_info": {
   "codemirror_mode": {
    "name": "ipython",
    "version": 3
   },
   "file_extension": ".py",
   "mimetype": "text/x-python",
   "name": "python",
   "nbconvert_exporter": "python",
   "pygments_lexer": "ipython3",
   "version": "3.9.13"
  }
 },
 "nbformat": 4,
 "nbformat_minor": 5
}
